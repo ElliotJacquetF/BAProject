{
 "cells": [
  {
   "cell_type": "code",
   "execution_count": 1,
   "metadata": {
    "scrolled": false
   },
   "outputs": [
    {
     "name": "stdout",
     "output_type": "stream",
     "text": [
      "Current version 1.2\n"
     ]
    },
    {
     "name": "stderr",
     "output_type": "stream",
     "text": [
      "2023-03-22 10:26:12.136643: I tensorflow/core/platform/cpu_feature_guard.cc:193] This TensorFlow binary is optimized with oneAPI Deep Neural Network Library (oneDNN) to use the following CPU instructions in performance-critical operations:  AVX2 AVX512F AVX512_VNNI FMA\n",
      "To enable them in other operations, rebuild TensorFlow with the appropriate compiler flags.\n"
     ]
    }
   ],
   "source": [
    "import LoadDatas as ld\n",
    "import Statistics as st\n",
    "import Visualisations as vs\n",
    "import Config as cf\n",
    "import Metrics as me\n",
    "import Models as mo\n",
    "import gc \n",
    "\n",
    "\n",
    "conf = cf.Config()"
   ]
  },
  {
   "cell_type": "code",
   "execution_count": 2,
   "metadata": {},
   "outputs": [
    {
     "data": {
      "text/plain": [
       "0"
      ]
     },
     "execution_count": 2,
     "metadata": {},
     "output_type": "execute_result"
    }
   ],
   "source": [
    "\"\"\"\n",
    "Get resources and updates config when its done\n",
    "\"\"\"\n",
    "\n",
    "#Load AOIs and images\n",
    "aoisByImage = ld.getAOIListByImage(conf)\n",
    "conf.aoisByImage = aoisByImage\n",
    "conf.ARE_AOIS_LOAD = aoisByImage != None\n",
    "\n",
    "imageList = ld.getImageList(conf)\n",
    "\n",
    "conf.imageList = imageList\n",
    "conf.ARE_IMAGES_LOAD = imageList != None\n",
    "\n",
    "#Get the fixations from the folder FIXATIONS\n",
    "fixations = ld.getFixations(conf)\n",
    "conf.fixations = fixations\n",
    "conf.ARE_FIXATIONS_LOAD = conf.fixations != None\n",
    "gc.collect()"
   ]
  },
  {
   "cell_type": "code",
   "execution_count": 3,
   "metadata": {},
   "outputs": [
    {
     "name": "stdout",
     "output_type": "stream",
     "text": [
      "this is it dict_keys([])\n",
      "================================\n",
      "Average statistics over all users\n",
      "================================\n",
      "2\n"
     ]
    }
   ],
   "source": [
    "\"\"\"\n",
    "Statistics\n",
    "\"\"\"\n",
    "if conf.ARE_IMAGES_LOAD and conf.ARE_AOIS_LOAD and conf.ARE_FIXATIONS_LOAD:\n",
    "\n",
    "    #Compute statistic by user\n",
    "    statistics = st.getUserStatistics(conf)\n",
    "    #print('keys1',sorted(statistics.keys()))\n",
    "    #print(statistics['181020221524'][0].aoiStats)\n",
    "\n",
    "    #Print statistics by user\n",
    "    '''\n",
    "    for user in statistics:\n",
    "        imStatList =statistics[user]\n",
    "        for imStat in imStatList:\n",
    "            imStatList[imStat].printStatistics()\n",
    "    '''\n",
    "\n",
    "    #Compute global statistics by image\n",
    "    statGlob = st.computeGlobalStatistic(statistics, conf)\n",
    "    \n",
    "\n",
    "    #Print statistics\n",
    "    st.printStatistics(statGlob,conf)\n",
    "    \n",
    "    #Create histograms\n",
    "    vs.createAllHistograms(statGlob,conf)\n",
    "    \n",
    "    #Force garbage collection\n",
    "    gc.collect()\n",
    "    print(\"2\")"
   ]
  },
  {
   "cell_type": "code",
   "execution_count": 12,
   "metadata": {},
   "outputs": [
    {
     "name": "stdout",
     "output_type": "stream",
     "text": [
      "3\n"
     ]
    }
   ],
   "source": [
    "\"\"\"\n",
    "Visualisations\n",
    "\"\"\"\n",
    "#if conf.ARE_AOIS_LOAD and conf.ARE_FIXATIONS_LOAD:\n",
    "    #AOI in images \n",
    "    #vs.drawAOIOverImages(conf)\n",
    "    \n",
    "if conf.ARE_IMAGES_LOAD:\n",
    "        #Heatmaps and focusmaps\n",
    "        vs.generateAllHeatmapsAndFocusmap(conf, saveFiles=True)\n",
    "        \n",
    "        #gc.collect()\n",
    "\n",
    "        #Gazeplots\n",
    "        vs.createAllGazeplots(conf)\n",
    "        \n",
    "        gc.collect()\n",
    "\n",
    "        #Scanpaths\n",
    "        vs.createAllScanpaths(conf)\n",
    "        \n",
    "        #gc.collect()\n",
    "print(\"3\")"
   ]
  },
  {
   "cell_type": "code",
   "execution_count": 13,
   "metadata": {},
   "outputs": [],
   "source": [
    "\"\"\"\n",
    "Compute all binary map \n",
    "\"\"\"\n",
    "#Compute all binary maps\n",
    "binMapDictionnary = vs.computeAllBinaryMap(conf)\n",
    "\n",
    "#Compute sum of binary maps by images\n",
    "sumBinMaps = me.computeSumBinMapsByImages(binMapDictionnary, conf)"
   ]
  },
  {
   "cell_type": "code",
   "execution_count": 6,
   "metadata": {
    "scrolled": true
   },
   "outputs": [
    {
     "name": "stdout",
     "output_type": "stream",
     "text": [
      "4\n"
     ]
    }
   ],
   "source": [
    "\"\"\"\n",
    "Inter-observer consistency\n",
    "\"\"\"\n",
    "#IOC scores\n",
    "iocScores, iocScoresMean = me.computeIOCScore(binMapDictionnary, sumBinMaps, conf, plotCurve=False, saveSaliencyMap=True, saveCombinedMaps=True)\n",
    "\n",
    "#Print IOC scores\n",
    "me.printIOCScores(iocScores, iocScoresMean, conf)\n",
    "print(\"4\")"
   ]
  },
  {
   "cell_type": "code",
   "execution_count": 7,
   "metadata": {},
   "outputs": [
    {
     "ename": "OSError",
     "evalue": "File does not exist. Received: resources/deepGazeFiles/DeepGazeII.ckpt.meta.",
     "output_type": "error",
     "traceback": [
      "\u001b[0;31m---------------------------------------------------------------------------\u001b[0m",
      "\u001b[0;31mOSError\u001b[0m                                   Traceback (most recent call last)",
      "\u001b[0;32m/var/folders/z3/q3dm3kvj43q24611cgswtyph0000gp/T/ipykernel_31084/3651388748.py\u001b[0m in \u001b[0;36m<module>\u001b[0;34m\u001b[0m\n\u001b[1;32m      2\u001b[0m \u001b[0mPredictions\u001b[0m \u001b[0musing\u001b[0m \u001b[0mDeepGaze\u001b[0m \u001b[0;32mand\u001b[0m \u001b[0mICF\u001b[0m\u001b[0;34m\u001b[0m\u001b[0;34m\u001b[0m\u001b[0m\n\u001b[1;32m      3\u001b[0m \"\"\"\n\u001b[0;32m----> 4\u001b[0;31m \u001b[0mpredictions\u001b[0m \u001b[0;34m=\u001b[0m \u001b[0mmo\u001b[0m\u001b[0;34m.\u001b[0m\u001b[0mpredictAllSaliencyMaps\u001b[0m\u001b[0;34m(\u001b[0m\u001b[0mconf\u001b[0m\u001b[0;34m,\u001b[0m \u001b[0msaveFiles\u001b[0m \u001b[0;34m=\u001b[0m \u001b[0;32mTrue\u001b[0m\u001b[0;34m)\u001b[0m\u001b[0;34m\u001b[0m\u001b[0;34m\u001b[0m\u001b[0m\n\u001b[0m",
      "\u001b[0;32m~/Documents/python_scripts/Models.py\u001b[0m in \u001b[0;36mpredictAllSaliencyMaps\u001b[0;34m(conf, saveFiles)\u001b[0m\n\u001b[1;32m     22\u001b[0m         \u001b[0mtf\u001b[0m\u001b[0;34m.\u001b[0m\u001b[0mreset_default_graph\u001b[0m\u001b[0;34m(\u001b[0m\u001b[0;34m)\u001b[0m\u001b[0;34m\u001b[0m\u001b[0;34m\u001b[0m\u001b[0m\n\u001b[1;32m     23\u001b[0m         \u001b[0mcheck_point_path\u001b[0m \u001b[0;34m=\u001b[0m \u001b[0mconf\u001b[0m\u001b[0;34m.\u001b[0m\u001b[0mDEEP_GAZE_RESOURCES_FOLDER\u001b[0m \u001b[0;34m+\u001b[0m \u001b[0mcheck_point\u001b[0m\u001b[0;34m\u001b[0m\u001b[0;34m\u001b[0m\u001b[0m\n\u001b[0;32m---> 24\u001b[0;31m         \u001b[0mnew_saver\u001b[0m \u001b[0;34m=\u001b[0m \u001b[0mtf\u001b[0m\u001b[0;34m.\u001b[0m\u001b[0mtrain\u001b[0m\u001b[0;34m.\u001b[0m\u001b[0mimport_meta_graph\u001b[0m\u001b[0;34m(\u001b[0m \u001b[0;34m'{}.meta'\u001b[0m\u001b[0;34m.\u001b[0m\u001b[0mformat\u001b[0m\u001b[0;34m(\u001b[0m\u001b[0mcheck_point_path\u001b[0m\u001b[0;34m)\u001b[0m\u001b[0;34m)\u001b[0m\u001b[0;34m\u001b[0m\u001b[0;34m\u001b[0m\u001b[0m\n\u001b[0m\u001b[1;32m     25\u001b[0m \u001b[0;34m\u001b[0m\u001b[0m\n\u001b[1;32m     26\u001b[0m         \u001b[0mcurSaliencyMaps\u001b[0m \u001b[0;34m=\u001b[0m \u001b[0;34m{\u001b[0m\u001b[0;34m}\u001b[0m\u001b[0;34m\u001b[0m\u001b[0;34m\u001b[0m\u001b[0m\n",
      "\u001b[0;32m~/opt/anaconda3/lib/python3.9/site-packages/tensorflow/python/training/saver.py\u001b[0m in \u001b[0;36mimport_meta_graph\u001b[0;34m(meta_graph_or_file, clear_devices, import_scope, **kwargs)\u001b[0m\n\u001b[1;32m   1578\u001b[0m   \u001b[0;34m@\u001b[0m\u001b[0mend_compatibility\u001b[0m\u001b[0;34m\u001b[0m\u001b[0;34m\u001b[0m\u001b[0m\n\u001b[1;32m   1579\u001b[0m   \"\"\"  # pylint: disable=g-doc-exception\n\u001b[0;32m-> 1580\u001b[0;31m   return _import_meta_graph_with_return_elements(meta_graph_or_file,\n\u001b[0m\u001b[1;32m   1581\u001b[0m                                                  \u001b[0mclear_devices\u001b[0m\u001b[0;34m,\u001b[0m \u001b[0mimport_scope\u001b[0m\u001b[0;34m,\u001b[0m\u001b[0;34m\u001b[0m\u001b[0;34m\u001b[0m\u001b[0m\n\u001b[1;32m   1582\u001b[0m                                                  **kwargs)[0]\n",
      "\u001b[0;32m~/opt/anaconda3/lib/python3.9/site-packages/tensorflow/python/training/saver.py\u001b[0m in \u001b[0;36m_import_meta_graph_with_return_elements\u001b[0;34m(meta_graph_or_file, clear_devices, import_scope, return_elements, **kwargs)\u001b[0m\n\u001b[1;32m   1594\u001b[0m                        \"execution is enabled.\")\n\u001b[1;32m   1595\u001b[0m   \u001b[0;32mif\u001b[0m \u001b[0;32mnot\u001b[0m \u001b[0misinstance\u001b[0m\u001b[0;34m(\u001b[0m\u001b[0mmeta_graph_or_file\u001b[0m\u001b[0;34m,\u001b[0m \u001b[0mmeta_graph_pb2\u001b[0m\u001b[0;34m.\u001b[0m\u001b[0mMetaGraphDef\u001b[0m\u001b[0;34m)\u001b[0m\u001b[0;34m:\u001b[0m\u001b[0;34m\u001b[0m\u001b[0;34m\u001b[0m\u001b[0m\n\u001b[0;32m-> 1596\u001b[0;31m     \u001b[0mmeta_graph_def\u001b[0m \u001b[0;34m=\u001b[0m \u001b[0mmeta_graph\u001b[0m\u001b[0;34m.\u001b[0m\u001b[0mread_meta_graph_file\u001b[0m\u001b[0;34m(\u001b[0m\u001b[0mmeta_graph_or_file\u001b[0m\u001b[0;34m)\u001b[0m\u001b[0;34m\u001b[0m\u001b[0;34m\u001b[0m\u001b[0m\n\u001b[0m\u001b[1;32m   1597\u001b[0m   \u001b[0;32melse\u001b[0m\u001b[0;34m:\u001b[0m\u001b[0;34m\u001b[0m\u001b[0;34m\u001b[0m\u001b[0m\n\u001b[1;32m   1598\u001b[0m     \u001b[0mmeta_graph_def\u001b[0m \u001b[0;34m=\u001b[0m \u001b[0mmeta_graph_or_file\u001b[0m\u001b[0;34m\u001b[0m\u001b[0;34m\u001b[0m\u001b[0m\n",
      "\u001b[0;32m~/opt/anaconda3/lib/python3.9/site-packages/tensorflow/python/framework/meta_graph.py\u001b[0m in \u001b[0;36mread_meta_graph_file\u001b[0;34m(filename)\u001b[0m\n\u001b[1;32m    631\u001b[0m   \u001b[0mmeta_graph_def\u001b[0m \u001b[0;34m=\u001b[0m \u001b[0mmeta_graph_pb2\u001b[0m\u001b[0;34m.\u001b[0m\u001b[0mMetaGraphDef\u001b[0m\u001b[0;34m(\u001b[0m\u001b[0;34m)\u001b[0m\u001b[0;34m\u001b[0m\u001b[0;34m\u001b[0m\u001b[0m\n\u001b[1;32m    632\u001b[0m   \u001b[0;32mif\u001b[0m \u001b[0;32mnot\u001b[0m \u001b[0mfile_io\u001b[0m\u001b[0;34m.\u001b[0m\u001b[0mfile_exists\u001b[0m\u001b[0;34m(\u001b[0m\u001b[0mfilename\u001b[0m\u001b[0;34m)\u001b[0m\u001b[0;34m:\u001b[0m\u001b[0;34m\u001b[0m\u001b[0;34m\u001b[0m\u001b[0m\n\u001b[0;32m--> 633\u001b[0;31m     \u001b[0;32mraise\u001b[0m \u001b[0mIOError\u001b[0m\u001b[0;34m(\u001b[0m\u001b[0;34mf\"File does not exist. Received: {filename}.\"\u001b[0m\u001b[0;34m)\u001b[0m\u001b[0;34m\u001b[0m\u001b[0;34m\u001b[0m\u001b[0m\n\u001b[0m\u001b[1;32m    634\u001b[0m   \u001b[0;31m# First try to read it as a binary file.\u001b[0m\u001b[0;34m\u001b[0m\u001b[0;34m\u001b[0m\u001b[0m\n\u001b[1;32m    635\u001b[0m   \u001b[0;32mwith\u001b[0m \u001b[0mfile_io\u001b[0m\u001b[0;34m.\u001b[0m\u001b[0mFileIO\u001b[0m\u001b[0;34m(\u001b[0m\u001b[0mfilename\u001b[0m\u001b[0;34m,\u001b[0m \u001b[0;34m\"rb\"\u001b[0m\u001b[0;34m)\u001b[0m \u001b[0;32mas\u001b[0m \u001b[0mf\u001b[0m\u001b[0;34m:\u001b[0m\u001b[0;34m\u001b[0m\u001b[0;34m\u001b[0m\u001b[0m\n",
      "\u001b[0;31mOSError\u001b[0m: File does not exist. Received: resources/deepGazeFiles/DeepGazeII.ckpt.meta."
     ]
    }
   ],
   "source": [
    "\"\"\"\n",
    "Predictions using DeepGaze and ICF\n",
    "\"\"\"\n",
    "predictions = mo.predictAllSaliencyMaps(conf, saveFiles = True)"
   ]
  },
  {
   "cell_type": "markdown",
   "metadata": {},
   "source": [
    "\"\"\"\n",
    "Compute and print AUC Scores for the models\n",
    "\"\"\"\n",
    "#Get the AUC scores for DeepGaze and ICF Model\n",
    "modelScores, meanScoresModel = mo.computeModelScores(predictions, sumBinMaps,conf)\n",
    "\n",
    "#Print the scores for the models\n",
    "mo.printModelScores(modelScores, meanScoresModel, conf)"
   ]
  },
  {
   "cell_type": "code",
   "execution_count": 8,
   "metadata": {},
   "outputs": [],
   "source": [
    "from matplotlib import pyplot\n",
    "for c in sumBinMaps:\n",
    "    fig1, ax1, fig2, ax2, imageName = vs.getBasicFigures(c, conf, drawImage=False)\n",
    "    ax1.imshow(vs.blur(sumBinMaps[c]), cmap='gray',alpha=1.0)\n",
    "    ax1.invert_yaxis()\n",
    "    fig1.show()\n",
    "    \n",
    "    path = conf.OUTPUTS +\"/saliencyMapNObservers/\"+imageName+\".jpg\"\n",
    "    fig1.savefig(path)\n",
    "\n",
    "    #Close figures\n",
    "    pyplot.close(fig1)\n",
    "    pyplot.close(fig2)\n",
    "    \n",
    "    "
   ]
  },
  {
   "cell_type": "code",
   "execution_count": null,
   "metadata": {},
   "outputs": [],
   "source": []
  },
  {
   "cell_type": "code",
   "execution_count": null,
   "metadata": {},
   "outputs": [],
   "source": []
  }
 ],
 "metadata": {
  "kernelspec": {
   "display_name": "Python 3 (ipykernel)",
   "language": "python",
   "name": "python3"
  },
  "language_info": {
   "codemirror_mode": {
    "name": "ipython",
    "version": 3
   },
   "file_extension": ".py",
   "mimetype": "text/x-python",
   "name": "python",
   "nbconvert_exporter": "python",
   "pygments_lexer": "ipython3",
   "version": "3.9.13"
  },
  "vscode": {
   "interpreter": {
    "hash": "916dbcbb3f70747c44a77c7bcd40155683ae19c65e1c03b4aa3499c5328201f1"
   }
  }
 },
 "nbformat": 4,
 "nbformat_minor": 2
}
